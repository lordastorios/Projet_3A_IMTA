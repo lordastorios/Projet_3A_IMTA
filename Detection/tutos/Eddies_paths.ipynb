{
 "cells": [
  {
   "cell_type": "code",
   "execution_count": 1,
   "metadata": {},
   "outputs": [],
   "source": [
    "import sys\n",
    "sys.path.append(\"../\")\n",
    "import warnings\n",
    "warnings.filterwarnings(\"ignore\")\n",
    "\n",
    "from eddies_detection import  get_traj_with_parcels, get_traj_with_numpy, find_eddies\n",
    "from eddies_tracking import eddies_tracker\n",
    "from plot import StreamPlot\n",
    "from time import time\n",
    "import numpy as np\n",
    "\n",
    "d0 = 0\n",
    "date_len = 10\n",
    "stream_data_fname = \"../data/data.nc\"\n",
    "runtime = 1000   \n",
    "delta_time = 5\n",
    "particle_grid_step = 2"
   ]
  },
  {
   "cell_type": "code",
   "execution_count": 2,
   "metadata": {},
   "outputs": [],
   "source": [
    "import matplotlib.pyplot as plt\n",
    "plt.rcParams['figure.figsize'] = [20, 20]"
   ]
  },
  {
   "cell_type": "markdown",
   "metadata": {},
   "source": [
    "## Compute the list of path"
   ]
  },
  {
   "cell_type": "code",
   "execution_count": null,
   "metadata": {},
   "outputs": [
    {
     "name": "stdout",
     "output_type": "stream",
     "text": [
      "0\n",
      "Integration: 5% 10% 15% 20% 25% 30% 35% 40% 45% 50% 55% 60% 65% 70% 75% 80% 85% 90% 95% \n",
      "Time :  67.32978820800781\n",
      "1\n",
      "Integration: 5% 10% 15% 20% 25% 30% 35% 40% 45% 50% 55% 60% 65% 70% 75% 80% 85% 90% 95% \n"
     ]
    }
   ],
   "source": [
    "list_days = []\n",
    "\n",
    "for di in range(date_len):\n",
    "    print(di)\n",
    "    t0 = time()\n",
    "    b = get_traj_with_numpy(d0+di, runtime, delta_time, particle_grid_step, stream_data_fname)\n",
    "    print(\"Time : \",time()-t0)\n",
    "    \n",
    "    bb = find_eddies(b)\n",
    "    list_days.append(bb)"
   ]
  },
  {
   "cell_type": "code",
   "execution_count": null,
   "metadata": {},
   "outputs": [],
   "source": [
    "import random as rd\n",
    "\n",
    "rd_color = lambda: '#{:02x}{:02x}{:02x}'.format(rd.randint(0,255),rd.randint(0,255),rd.randint(0,255))"
   ]
  },
  {
   "cell_type": "code",
   "execution_count": null,
   "metadata": {},
   "outputs": [],
   "source": [
    "for bb in list_days:\n",
    "    figure = StreamPlot()\n",
    "    figure.plot_trajectories(bb,line_style=line_style)\n",
    "    figure.show()"
   ]
  },
  {
   "cell_type": "code",
   "execution_count": null,
   "metadata": {},
   "outputs": [],
   "source": [
    "figure = StreamPlot()\n",
    "for bb in list_days[:2]:\n",
    "    line_style = rd_color()\n",
    "    figure.plot_eddies(bb,line_style=line_style)"
   ]
  },
  {
   "cell_type": "markdown",
   "metadata": {},
   "source": [
    "## Clustering"
   ]
  },
  {
   "cell_type": "code",
   "execution_count": null,
   "metadata": {},
   "outputs": [],
   "source": [
    "date_len = date_len\n",
    "t0 = time()\n",
    "paths = eddies_tracker(0,list_days[:date_len],nb_prev_day=8)\n",
    "print(\"Time : \",time()-t0)"
   ]
  },
  {
   "cell_type": "code",
   "execution_count": null,
   "metadata": {},
   "outputs": [],
   "source": [
    "figure = StreamPlot()\n",
    "figure.plot_catalogue(paths)\n",
    "figure.show()\n",
    "\n",
    "figure = StreamPlot()\n",
    "figure.plot_eddies_trajectories(paths)\n",
    "figure.show()"
   ]
  },
  {
   "cell_type": "code",
   "execution_count": null,
   "metadata": {},
   "outputs": [],
   "source": []
  }
 ],
 "metadata": {
  "kernelspec": {
   "display_name": "Python 3",
   "language": "python",
   "name": "python3"
  },
  "language_info": {
   "codemirror_mode": {
    "name": "ipython",
    "version": 3
   },
   "file_extension": ".py",
   "mimetype": "text/x-python",
   "name": "python",
   "nbconvert_exporter": "python",
   "pygments_lexer": "ipython3",
   "version": "3.6.11"
  }
 },
 "nbformat": 4,
 "nbformat_minor": 4
}
